{
 "cells": [
  {
   "cell_type": "markdown",
   "id": "d72e079f",
   "metadata": {},
   "source": [
    "Affine"
   ]
  },
  {
   "cell_type": "code",
   "execution_count": 16,
   "id": "0a7ffa90",
   "metadata": {},
   "outputs": [
    {
     "name": "stdout",
     "output_type": "stream",
     "text": [
      "1\n",
      "ZRWUWUIUCSPCZQCUUIMC\n"
     ]
    }
   ],
   "source": [
    "alphabet = \"ABCDEFGHIJKLMNOPQRSTUVWXYZ\"\n",
    "plaintext = \"THISISASECRETMESSAGE\"\n",
    "a = 5\n",
    "b = 8\n",
    "ciphertext = \"\"\n",
    "\n",
    "k = len(alphabet)\n",
    "l = a\n",
    "while k != 0:\n",
    "    rest = l % k\n",
    "    l = k\n",
    "    k = rest\n",
    "print (l)\n",
    "\n",
    "if l != 1:\n",
    "    exit()\n",
    "\n",
    "for i in range(len(plaintext)):\n",
    "    letterIndex = alphabet.find(plaintext[i])\n",
    "    cipherIndex = (a * letterIndex + b) % len(alphabet)\n",
    "    ciphertext += alphabet[cipherIndex]\n",
    "\n",
    "print(ciphertext)"
   ]
  },
  {
   "cell_type": "code",
   "execution_count": 17,
   "id": "484ff48f",
   "metadata": {},
   "outputs": [
    {
     "name": "stdout",
     "output_type": "stream",
     "text": [
      "THISISASECRETMESSAGE\n"
     ]
    }
   ],
   "source": [
    "alphabet = \"ABCDEFGHIJKLMNOPQRSTUVWXYZ\"\n",
    "ciphertext = \"ZRWUWUIUCSPCZQCUUIMC\"\n",
    "a = 5\n",
    "b = 8\n",
    "plaintext = \"\"\n",
    "m = len(alphabet)\n",
    "\n",
    "t = 0\n",
    "new_t = 1\n",
    "r = m \n",
    "new_r = a\n",
    "\n",
    "while new_r != 0:\n",
    "    quotient = r // new_r\n",
    "    t, new_t = new_t, t - quotient * new_t\n",
    "    r, new_r = new_r, r - quotient * new_r\n",
    "\n",
    "if r > 1:\n",
    "    exit()\n",
    "\n",
    "a_inverse = t % m\n",
    "\n",
    "if a_inverse < 0:\n",
    "    a_inverse = a_inverse + m\n",
    "\n",
    "for i in range(len(ciphertext)):\n",
    "    letterIndex = alphabet.find(ciphertext[i])\n",
    "    plainIndex = (a_inverse * (letterIndex - b)) % m\n",
    "    plaintext += alphabet[plainIndex]\n",
    "\n",
    "print(plaintext)\n"
   ]
  },
  {
   "cell_type": "markdown",
   "id": "4450af32",
   "metadata": {},
   "source": []
  }
 ],
 "metadata": {
  "kernelspec": {
   "display_name": "Python 3",
   "language": "python",
   "name": "python3"
  },
  "language_info": {
   "codemirror_mode": {
    "name": "ipython",
    "version": 3
   },
   "file_extension": ".py",
   "mimetype": "text/x-python",
   "name": "python",
   "nbconvert_exporter": "python",
   "pygments_lexer": "ipython3",
   "version": "3.12.8"
  }
 },
 "nbformat": 4,
 "nbformat_minor": 5
}
