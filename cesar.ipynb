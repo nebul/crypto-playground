{
 "cells": [
  {
   "cell_type": "markdown",
   "id": "d72e079f",
   "metadata": {},
   "source": [
    "Cesar"
   ]
  },
  {
   "cell_type": "code",
   "execution_count": 9,
   "id": "0a7ffa90",
   "metadata": {},
   "outputs": [
    {
     "name": "stdout",
     "output_type": "stream",
     "text": [
      "WKLVLVDVHFUHWPHVVDJH\n"
     ]
    }
   ],
   "source": [
    "alphabet = \"ABCDEFGHIJKLMNOPQRSTUVWXYZ\"\n",
    "shift = 3\n",
    "\n",
    "plaintext = \"THISISASECRETMESSAGE\"\n",
    "ciphertext = \"\"\n",
    "\n",
    "for i in range(len(plaintext)):\n",
    "    letterIndex = alphabet.find(plaintext[i])\n",
    "    cipherIndex = (letterIndex + shift) % len(alphabet)\n",
    "    ciphertext += alphabet[cipherIndex]\n",
    "\n",
    "print(ciphertext)"
   ]
  },
  {
   "cell_type": "code",
   "execution_count": 10,
   "id": "484ff48f",
   "metadata": {},
   "outputs": [
    {
     "name": "stdout",
     "output_type": "stream",
     "text": [
      "THISISASECRETMESSAGE\n"
     ]
    }
   ],
   "source": [
    "alphabet = \"ABCDEFGHIJKLMNOPQRSTUVWXYZ\"\n",
    "shift = 3\n",
    "\n",
    "ciphertext = \"WKLVLVDVHFUHWPHVVDJH\"\n",
    "plaintext = \"\"\n",
    "\n",
    "for i in range(len(ciphertext)):\n",
    "    letterIndex = alphabet.find(ciphertext[i])\n",
    "    plainIndex = (letterIndex - shift) % len(alphabet)\n",
    "    plaintext += alphabet[plainIndex]\n",
    "\n",
    "print(plaintext)"
   ]
  },
  {
   "cell_type": "markdown",
   "id": "4450af32",
   "metadata": {},
   "source": []
  }
 ],
 "metadata": {
  "kernelspec": {
   "display_name": "Python 3",
   "language": "python",
   "name": "python3"
  },
  "language_info": {
   "codemirror_mode": {
    "name": "ipython",
    "version": 3
   },
   "file_extension": ".py",
   "mimetype": "text/x-python",
   "name": "python",
   "nbconvert_exporter": "python",
   "pygments_lexer": "ipython3",
   "version": "3.12.8"
  }
 },
 "nbformat": 4,
 "nbformat_minor": 5
}
