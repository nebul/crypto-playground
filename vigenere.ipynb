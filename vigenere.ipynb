{
 "cells": [
  {
   "cell_type": "markdown",
   "id": "d72e079f",
   "metadata": {},
   "source": [
    "Vigenére"
   ]
  },
  {
   "cell_type": "markdown",
   "id": "bbe9f46d",
   "metadata": {},
   "source": [
    "Classique"
   ]
  },
  {
   "cell_type": "code",
   "execution_count": 14,
   "id": "0a7ffa90",
   "metadata": {},
   "outputs": [
    {
     "name": "stdout",
     "output_type": "stream",
     "text": [
      "ILZAWVPWVKFHIQVAGDVI\n"
     ]
    }
   ],
   "source": [
    "alphabet = \"ABCDEFGHIJKLMNOPQRSTUVWXYZ\"\n",
    "periodWord = \"PERIOD\"\n",
    "\n",
    "plaintext = \"THISISASECRETMESSAGE\"\n",
    "ciphertext = \"\"\n",
    "\n",
    "for i in range(len(plaintext)):\n",
    "    letterIndex = alphabet.find(plaintext[i])\n",
    "    periodIndex = alphabet.find(periodWord[i % len(periodWord)])\n",
    "    cipherIndex = (letterIndex + periodIndex) % len(alphabet)\n",
    "    ciphertext += alphabet[cipherIndex]\n",
    "\n",
    "print(ciphertext)"
   ]
  },
  {
   "cell_type": "code",
   "execution_count": 17,
   "id": "484ff48f",
   "metadata": {},
   "outputs": [
    {
     "name": "stdout",
     "output_type": "stream",
     "text": [
      "THISISASECRETMESSAGE\n"
     ]
    }
   ],
   "source": [
    "alphabet = \"ABCDEFGHIJKLMNOPQRSTUVWXYZ\"\n",
    "periodWord = \"PERIOD\"\n",
    "\n",
    "ciphertext = \"ILZAWVPWVKFHIQVAGDVI\"\n",
    "plaintext = \"\"\n",
    "\n",
    "for i in range(len(ciphertext)):\n",
    "    letterIndex = alphabet.find(ciphertext[i])\n",
    "    periodIndex = alphabet.find(periodWord[i % len(periodWord)])\n",
    "    plainIndex = (letterIndex - periodIndex) % len(alphabet)\n",
    "    plaintext += alphabet[plainIndex]\n",
    "\n",
    "print(plaintext)"
   ]
  },
  {
   "cell_type": "markdown",
   "id": "4450af32",
   "metadata": {},
   "source": []
  }
 ],
 "metadata": {
  "kernelspec": {
   "display_name": "Python 3",
   "language": "python",
   "name": "python3"
  },
  "language_info": {
   "codemirror_mode": {
    "name": "ipython",
    "version": 3
   },
   "file_extension": ".py",
   "mimetype": "text/x-python",
   "name": "python",
   "nbconvert_exporter": "python",
   "pygments_lexer": "ipython3",
   "version": "3.12.8"
  }
 },
 "nbformat": 4,
 "nbformat_minor": 5
}
